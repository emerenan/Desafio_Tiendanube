{
  "nbformat": 4,
  "nbformat_minor": 0,
  "metadata": {
    "colab": {
      "name": "Desafio_Tiendanube.ipynb",
      "provenance": [],
      "authorship_tag": "ABX9TyMlT5qfBbvCQ/CFiOy/QIGm",
      "include_colab_link": true
    },
    "kernelspec": {
      "name": "python3",
      "display_name": "Python 3"
    }
  },
  "cells": [
    {
      "cell_type": "markdown",
      "metadata": {
        "id": "view-in-github",
        "colab_type": "text"
      },
      "source": [
        "<a href=\"https://colab.research.google.com/github/emerenan/Desafio_Tiendanube/blob/master/Desafio_Tiendanube.ipynb\" target=\"_parent\"><img src=\"https://colab.research.google.com/assets/colab-badge.svg\" alt=\"Open In Colab\"/></a>"
      ]
    },
    {
      "cell_type": "code",
      "metadata": {
        "id": "OxVP903PH_7z",
        "colab_type": "code",
        "colab": {
          "base_uri": "https://localhost:8080/",
          "height": 441
        },
        "outputId": "4745a45d-ca14-4814-fb7d-d36282df60da"
      },
      "source": [
        "import pandas as pd\n",
        "\n",
        "def readfile(filepath, newname):\n",
        "    \"\"\" Método para ler o arquivo e salvar num dataframe.\n",
        "    Args:\n",
        "        filepath (str): Caminho onde o arquivo está localizado.\n",
        "    Returns:\n",
        "        DataFrame com os valores da planilha já tratados.\n",
        "    Raises:\n",
        "        CParserError: Imprimi uma mensagem de erro de leitura mais a localização do erro de analise do arquivo.\n",
        "    \"\"\"\n",
        "    try:\n",
        "        data_xls = pd.read_excel(filepath)\n",
        "        \n",
        "    except pd.io.common.CParserError:\n",
        "        print(\"Erro de leitura do arquivo\")\n",
        "\n",
        "novo = readfile(\"/content/Exercicio_1 - datos-trials-may17-BR.xlsx\", \"novo\")"
      ],
      "execution_count": 29,
      "outputs": [
        {
          "output_type": "error",
          "ename": "AttributeError",
          "evalue": "ignored",
          "traceback": [
            "\u001b[0;31m---------------------------------------------------------------------------\u001b[0m",
            "\u001b[0;31mIndexError\u001b[0m                                Traceback (most recent call last)",
            "\u001b[0;32m<ipython-input-29-0e3416433801>\u001b[0m in \u001b[0;36mreadfile\u001b[0;34m(filepath, newname)\u001b[0m\n\u001b[1;32m     12\u001b[0m     \u001b[0;32mtry\u001b[0m\u001b[0;34m:\u001b[0m\u001b[0;34m\u001b[0m\u001b[0;34m\u001b[0m\u001b[0m\n\u001b[0;32m---> 13\u001b[0;31m         \u001b[0mdata_xls\u001b[0m \u001b[0;34m=\u001b[0m \u001b[0mpd\u001b[0m\u001b[0;34m.\u001b[0m\u001b[0mread_excel\u001b[0m\u001b[0;34m(\u001b[0m\u001b[0mfilepath\u001b[0m\u001b[0;34m)\u001b[0m\u001b[0;34m\u001b[0m\u001b[0;34m\u001b[0m\u001b[0m\n\u001b[0m\u001b[1;32m     14\u001b[0m         \u001b[0mdata_xls\u001b[0m\u001b[0;34m.\u001b[0m\u001b[0mto_csv\u001b[0m\u001b[0;34m(\u001b[0m\u001b[0;34m'/content/{}.csv'\u001b[0m\u001b[0;34m.\u001b[0m\u001b[0mformat\u001b[0m\u001b[0;34m(\u001b[0m\u001b[0mnewname\u001b[0m\u001b[0;34m)\u001b[0m\u001b[0;34m,\u001b[0m \u001b[0mencoding\u001b[0m\u001b[0;34m=\u001b[0m\u001b[0;34m'utf-8'\u001b[0m\u001b[0;34m)\u001b[0m\u001b[0;34m\u001b[0m\u001b[0;34m\u001b[0m\u001b[0m\n",
            "\u001b[0;32m/usr/local/lib/python3.6/dist-packages/pandas/io/excel/_base.py\u001b[0m in \u001b[0;36mread_excel\u001b[0;34m(io, sheet_name, header, names, index_col, usecols, squeeze, dtype, engine, converters, true_values, false_values, skiprows, nrows, na_values, keep_default_na, verbose, parse_dates, date_parser, thousands, comment, skipfooter, convert_float, mangle_dupe_cols, **kwds)\u001b[0m\n\u001b[1;32m    333\u001b[0m         \u001b[0mmangle_dupe_cols\u001b[0m\u001b[0;34m=\u001b[0m\u001b[0mmangle_dupe_cols\u001b[0m\u001b[0;34m,\u001b[0m\u001b[0;34m\u001b[0m\u001b[0;34m\u001b[0m\u001b[0m\n\u001b[0;32m--> 334\u001b[0;31m         \u001b[0;34m**\u001b[0m\u001b[0mkwds\u001b[0m\u001b[0;34m,\u001b[0m\u001b[0;34m\u001b[0m\u001b[0;34m\u001b[0m\u001b[0m\n\u001b[0m\u001b[1;32m    335\u001b[0m     )\n",
            "\u001b[0;32m/usr/local/lib/python3.6/dist-packages/pandas/io/excel/_base.py\u001b[0m in \u001b[0;36mparse\u001b[0;34m(self, sheet_name, header, names, index_col, usecols, squeeze, converters, true_values, false_values, skiprows, nrows, na_values, parse_dates, date_parser, thousands, comment, skipfooter, convert_float, mangle_dupe_cols, **kwds)\u001b[0m\n\u001b[1;32m    887\u001b[0m             \u001b[0mmangle_dupe_cols\u001b[0m\u001b[0;34m=\u001b[0m\u001b[0mmangle_dupe_cols\u001b[0m\u001b[0;34m,\u001b[0m\u001b[0;34m\u001b[0m\u001b[0;34m\u001b[0m\u001b[0m\n\u001b[0;32m--> 888\u001b[0;31m             \u001b[0;34m**\u001b[0m\u001b[0mkwds\u001b[0m\u001b[0;34m,\u001b[0m\u001b[0;34m\u001b[0m\u001b[0;34m\u001b[0m\u001b[0m\n\u001b[0m\u001b[1;32m    889\u001b[0m         )\n",
            "\u001b[0;32m/usr/local/lib/python3.6/dist-packages/pandas/io/excel/_base.py\u001b[0m in \u001b[0;36mparse\u001b[0;34m(self, sheet_name, header, names, index_col, usecols, squeeze, dtype, true_values, false_values, skiprows, nrows, na_values, verbose, parse_dates, date_parser, thousands, comment, skipfooter, convert_float, mangle_dupe_cols, **kwds)\u001b[0m\n\u001b[1;32m    440\u001b[0m             \u001b[0;32melse\u001b[0m\u001b[0;34m:\u001b[0m  \u001b[0;31m# assume an integer if not a string\u001b[0m\u001b[0;34m\u001b[0m\u001b[0;34m\u001b[0m\u001b[0m\n\u001b[0;32m--> 441\u001b[0;31m                 \u001b[0msheet\u001b[0m \u001b[0;34m=\u001b[0m \u001b[0mself\u001b[0m\u001b[0;34m.\u001b[0m\u001b[0mget_sheet_by_index\u001b[0m\u001b[0;34m(\u001b[0m\u001b[0masheetname\u001b[0m\u001b[0;34m)\u001b[0m\u001b[0;34m\u001b[0m\u001b[0;34m\u001b[0m\u001b[0m\n\u001b[0m\u001b[1;32m    442\u001b[0m \u001b[0;34m\u001b[0m\u001b[0m\n",
            "\u001b[0;32m/usr/local/lib/python3.6/dist-packages/pandas/io/excel/_xlrd.py\u001b[0m in \u001b[0;36mget_sheet_by_index\u001b[0;34m(self, index)\u001b[0m\n\u001b[1;32m     45\u001b[0m     \u001b[0;32mdef\u001b[0m \u001b[0mget_sheet_by_index\u001b[0m\u001b[0;34m(\u001b[0m\u001b[0mself\u001b[0m\u001b[0;34m,\u001b[0m \u001b[0mindex\u001b[0m\u001b[0;34m)\u001b[0m\u001b[0;34m:\u001b[0m\u001b[0;34m\u001b[0m\u001b[0;34m\u001b[0m\u001b[0m\n\u001b[0;32m---> 46\u001b[0;31m         \u001b[0;32mreturn\u001b[0m \u001b[0mself\u001b[0m\u001b[0;34m.\u001b[0m\u001b[0mbook\u001b[0m\u001b[0;34m.\u001b[0m\u001b[0msheet_by_index\u001b[0m\u001b[0;34m(\u001b[0m\u001b[0mindex\u001b[0m\u001b[0;34m)\u001b[0m\u001b[0;34m\u001b[0m\u001b[0;34m\u001b[0m\u001b[0m\n\u001b[0m\u001b[1;32m     47\u001b[0m \u001b[0;34m\u001b[0m\u001b[0m\n",
            "\u001b[0;32m/usr/local/lib/python3.6/dist-packages/xlrd/book.py\u001b[0m in \u001b[0;36msheet_by_index\u001b[0;34m(self, sheetx)\u001b[0m\n\u001b[1;32m    461\u001b[0m         \"\"\"\n\u001b[0;32m--> 462\u001b[0;31m         \u001b[0;32mreturn\u001b[0m \u001b[0mself\u001b[0m\u001b[0;34m.\u001b[0m\u001b[0m_sheet_list\u001b[0m\u001b[0;34m[\u001b[0m\u001b[0msheetx\u001b[0m\u001b[0;34m]\u001b[0m \u001b[0;32mor\u001b[0m \u001b[0mself\u001b[0m\u001b[0;34m.\u001b[0m\u001b[0mget_sheet\u001b[0m\u001b[0;34m(\u001b[0m\u001b[0msheetx\u001b[0m\u001b[0;34m)\u001b[0m\u001b[0;34m\u001b[0m\u001b[0;34m\u001b[0m\u001b[0m\n\u001b[0m\u001b[1;32m    463\u001b[0m \u001b[0;34m\u001b[0m\u001b[0m\n",
            "\u001b[0;31mIndexError\u001b[0m: list index out of range",
            "\nDuring handling of the above exception, another exception occurred:\n",
            "\u001b[0;31mAttributeError\u001b[0m                            Traceback (most recent call last)",
            "\u001b[0;32m<ipython-input-29-0e3416433801>\u001b[0m in \u001b[0;36m<module>\u001b[0;34m()\u001b[0m\n\u001b[1;32m     18\u001b[0m         \u001b[0mprint\u001b[0m\u001b[0;34m(\u001b[0m\u001b[0;34m\"Erro de leitura do arquivo\"\u001b[0m\u001b[0;34m)\u001b[0m\u001b[0;34m\u001b[0m\u001b[0;34m\u001b[0m\u001b[0m\n\u001b[1;32m     19\u001b[0m \u001b[0;34m\u001b[0m\u001b[0m\n\u001b[0;32m---> 20\u001b[0;31m \u001b[0mnovo\u001b[0m \u001b[0;34m=\u001b[0m \u001b[0mreadfile\u001b[0m\u001b[0;34m(\u001b[0m\u001b[0;34m\"/content/Exercicio_1 - datos-trials-may17-BR.xlsx\"\u001b[0m\u001b[0;34m,\u001b[0m \u001b[0;34m\"novo\"\u001b[0m\u001b[0;34m)\u001b[0m\u001b[0;34m\u001b[0m\u001b[0;34m\u001b[0m\u001b[0m\n\u001b[0m",
            "\u001b[0;32m<ipython-input-29-0e3416433801>\u001b[0m in \u001b[0;36mreadfile\u001b[0;34m(filepath, newname)\u001b[0m\n\u001b[1;32m     15\u001b[0m         \u001b[0mdf\u001b[0m \u001b[0;34m=\u001b[0m \u001b[0mpd\u001b[0m\u001b[0;34m.\u001b[0m\u001b[0mread_csv\u001b[0m\u001b[0;34m(\u001b[0m\u001b[0;34m'/content/{}.csv'\u001b[0m\u001b[0;34m.\u001b[0m\u001b[0mformat\u001b[0m\u001b[0;34m(\u001b[0m\u001b[0mnewname\u001b[0m\u001b[0;34m)\u001b[0m\u001b[0;34m)\u001b[0m\u001b[0;34m\u001b[0m\u001b[0;34m\u001b[0m\u001b[0m\n\u001b[1;32m     16\u001b[0m         \u001b[0;32mreturn\u001b[0m \u001b[0mdf\u001b[0m\u001b[0;34m\u001b[0m\u001b[0;34m\u001b[0m\u001b[0m\n\u001b[0;32m---> 17\u001b[0;31m     \u001b[0;32mexcept\u001b[0m \u001b[0mpd\u001b[0m\u001b[0;34m.\u001b[0m\u001b[0mio\u001b[0m\u001b[0;34m.\u001b[0m\u001b[0mcommon\u001b[0m\u001b[0;34m.\u001b[0m\u001b[0mCParserError\u001b[0m\u001b[0;34m:\u001b[0m\u001b[0;34m\u001b[0m\u001b[0;34m\u001b[0m\u001b[0m\n\u001b[0m\u001b[1;32m     18\u001b[0m         \u001b[0mprint\u001b[0m\u001b[0;34m(\u001b[0m\u001b[0;34m\"Erro de leitura do arquivo\"\u001b[0m\u001b[0;34m)\u001b[0m\u001b[0;34m\u001b[0m\u001b[0;34m\u001b[0m\u001b[0m\n\u001b[1;32m     19\u001b[0m \u001b[0;34m\u001b[0m\u001b[0m\n",
            "\u001b[0;31mAttributeError\u001b[0m: module 'pandas.io.common' has no attribute 'CParserError'"
          ]
        }
      ]
    },
    {
      "cell_type": "code",
      "metadata": {
        "id": "eIarD12sh0Ch",
        "colab_type": "code",
        "colab": {}
      },
      "source": [
        "# Group the data by gender and device \n",
        "purchase_data_upd = purchase_data.groupby(by=['gender', 'device'], as_index=False)\n",
        "\n",
        "# Aggregate the month1 and price data \n",
        "purchase_summary = purchase_data_upd.agg(\n",
        "                        {'month1': ['mean', 'median'],\n",
        "                        'price': ['mean', 'median']})\n",
        "\n",
        "# Examine the results \n",
        "print(purchase_summary)"
      ],
      "execution_count": null,
      "outputs": []
    },
    {
      "cell_type": "code",
      "metadata": {
        "id": "NrUCB4P2dGUZ",
        "colab_type": "code",
        "colab": {
          "base_uri": "https://localhost:8080/",
          "height": 296
        },
        "outputId": "e68bb7b9-be98-4157-da32-be797cf57bf2"
      },
      "source": [
        "import pandas as pd\n",
        "import matplotlib.pyplot as plt\n",
        "import seaborn as sns\n",
        "\n",
        "# Método para contagem\n",
        "def count_entries(df, col_name):\n",
        "    \"\"\"Retorna um dicionario com a contagem de ocorrências de cada chave\n",
        "    \n",
        "    :param df:\n",
        "    :param col_name:\n",
        "\n",
        "    \"\"\"\n",
        "    cols_count = {}\n",
        "\n",
        "    try:\n",
        "        col = df[col_name]\n",
        "\n",
        "        for entry in col:\n",
        "            if entry in cols_count.keys():\n",
        "                cols_count[entry] += 1\n",
        "            else:\n",
        "\n",
        "                cols_count[entry] = 1\n",
        "\n",
        "        return cols_count\n",
        "\n",
        "    # Add except block\n",
        "    except:\n",
        "        print('The DataFrame does not have a ' + col_name + ' column.')\n",
        "\n",
        "# Método para converter a coluna float64 para str\n",
        "def bool_trans(df, column, val_true, val_false):\n",
        "    \"\"\" Método para transformar as colunas que estão em float64 para strings categóricas\n",
        "    \n",
        "    :param df:\n",
        "    :param column:\n",
        "    :param val_true:\n",
        "    :param val_false:\n",
        "    \"\"\"\n",
        "    list = []\n",
        "\n",
        "    for row in df[column].values:\n",
        "        if row == 1.0:\n",
        "            row = val_true\n",
        "            list.append(row)\n",
        "        else:\n",
        "            row = val_false\n",
        "            list.append(row)\n",
        "    df[column] = list\n",
        "\n",
        "\n",
        "# Método de plotagem em categoria\n",
        "def cat_plot(df, coluna, title, labelx, labely, legenda):\n",
        "\n",
        "    g = sns.catplot(x=coluna, data=df, kind='count', hue=legenda)\n",
        "    plt.title(title, y=1.03)\n",
        "    g.set(xlabel=labelx, ylabel=labely)\n",
        "    plt.xticks(rotation=45)\n",
        "        \n",
        "    return plt.show()\n",
        "\n",
        "\n",
        "columns = ['amplitude_id', 'user_id', 'carrier', 'city', 'country', 'device',\n",
        "       'device_type', 'dma', 'language', 'library', 'os', 'paying', 'platform',\n",
        "       'region', 'start_version', 'version', 'gp_brick_and_mortars',\n",
        "       'gp_business_size', 'gp_chat', 'gp_context', 'gp_country',\n",
        "       'gp_created_at', 'gp_first_contact', 'gp_from', 'gp_initial_referrer',\n",
        "       'gp_initial_referring_domain', 'gp_initial_utm_campaign',\n",
        "       'gp_initial_utm_content', 'gp_initial_utm_medium',\n",
        "       'gp_initial_utm_source', 'gp_initial_utm_term', 'gp_new_billing_flow',\n",
        "       'gp_new_product_filter', 'gp_orders', 'gp_products', 'gp_referrer',\n",
        "       'gp_referring_domain', 'gp_segment', 'gp_source', 'gp_store_id',\n",
        "       'gp_theme', 'gp_trial_payment_bar', 'gp_type', 'gp_utm_campaign',\n",
        "       'gp_utm_content', 'gp_utm_medium', 'gp_utm_source', 'gp_utm_term',\n",
        "       'gp_vertical']\n",
        "\n",
        "data = pd.read_excel(\"/content/Exercicio_1 - datos-trials-may17-BR.xlsx\", names=columns)\n",
        "\n",
        "# print(data.info())\n",
        "\n",
        "data = data.loc[:,['amplitude_id', 'user_id', 'city', 'country', 'device', 'language', 'library', 'paying', 'platform',\n",
        "                   'region', 'gp_chat', 'gp_context', 'gp_country', 'gp_created_at', 'gp_first_contact', 'gp_initial_referrer',\n",
        "                   'gp_initial_referring_domain', 'gp_initial_utm_campaign', 'gp_initial_utm_medium', 'gp_initial_utm_source',\n",
        "                   'gp_new_product_filter', 'gp_orders', 'gp_products', 'gp_referrer', 'gp_referring_domain', 'gp_segment',\n",
        "                   'gp_source', 'gp_store_id', 'gp_theme', 'gp_trial_payment_bar', 'gp_type', 'gp_utm_campaign', 'gp_utm_medium',\n",
        "                   'gp_utm_source', 'gp_vertical']]\n",
        "\n",
        "data.fillna({'paying':0.0, 'city': 'SÃ£o Paulo', 'country': 'Brazil', \n",
        "             'language': 'Portuguese', 'gp_chat':0.0, 'gp_trial_payment_bar':0.0, \n",
        "             'gp_new_product_filter':0.0, 'gp_orders':0, 'gp_products':0, \n",
        "             'gp_segment': 'no-seller', 'gp_theme': 'material', 'gp_vertical': 'other'}, inplace=True)\n",
        "\n",
        "\n",
        "data.fillna('Não Definido', inplace=True)\n",
        "\n",
        "bool_trans(data, 'paying', 'Sim', 'Não')\n",
        "bool_trans(data, 'gp_chat', 'Sim', 'Não')\n",
        "bool_trans(data, 'gp_trial_payment_bar', 'Sim', 'Não')\n",
        "bool_trans(data, 'gp_new_product_filter', 'Sim', 'Não')\n",
        "\n",
        "\n",
        "ct_platform_chat = pd.crosstab(data.platform, data.gp_chat)\n",
        "stack = ct_platform_chat.stack().reset_index().rename(columns={0:'value'})\n",
        "sns.barplot(x=stack.platform, y=stack.value, hue=stack.gp_chat)\n",
        "\n",
        "\n"
      ],
      "execution_count": 214,
      "outputs": [
        {
          "output_type": "execute_result",
          "data": {
            "text/plain": [
              "<matplotlib.axes._subplots.AxesSubplot at 0x7f22ef390550>"
            ]
          },
          "metadata": {
            "tags": []
          },
          "execution_count": 214
        },
        {
          "output_type": "display_data",
          "data": {
            "image/png": "[encoded data removed]",
            "text/plain": [
              "<Figure size 432x288 with 1 Axes>"
            ]
          },
          "metadata": {
            "tags": [],
            "needs_background": "light"
          }
        }
      ]
    },
    {
      "cell_type": "code",
      "metadata": {
        "id": "s25m4h1TQO3S",
        "colab_type": "code",
        "colab": {}
      },
      "source": [
        "# Método para contagem\n",
        "def count_entries(df, col_name):\n",
        "    \"\"\"Retorna um dicionario com a contagem de ocorrências de cada chave\n",
        "    \n",
        "    :param df:\n",
        "    :param col_name:\n",
        "\n",
        "    \"\"\"\n",
        "    cols_count = {}\n",
        "\n",
        "    try:\n",
        "        col = df[col_name]\n",
        "\n",
        "        for entry in col:\n",
        "            if entry in cols_count.keys():\n",
        "                cols_count[entry] += 1\n",
        "            else:\n",
        "\n",
        "                cols_count[entry] = 1\n",
        "\n",
        "        return cols_count\n",
        "\n",
        "    # Add except block\n",
        "    except:\n",
        "        print('The DataFrame does not have a ' + col_name + ' column.')\n",
        "\n",
        "# Método para converter a coluna float64 para str\n",
        "def bool_trans(df, column, val_true, val_false):\n",
        "    \"\"\" Método para transformar as colunas que estão em float64 para strings categóricas\n",
        "    \n",
        "    :param df:\n",
        "    :param column:\n",
        "    :param val_true:\n",
        "    :param val_false:\n",
        "    \"\"\"\n",
        "    list = []\n",
        "\n",
        "    for row in df[column].values:\n",
        "        if row == 1.0:\n",
        "            row = val_true\n",
        "            list.append(row)\n",
        "        else:\n",
        "            row = val_false\n",
        "            list.append(row)\n",
        "    df[column] = list\n",
        "\n",
        "\n",
        "# Método de plotagem em categoria\n",
        "def cat_plot(df, coluna, title, labelx, labely, legenda):\n",
        "\n",
        "    g = sns.catplot(x=coluna, data=df, kind='count', hue=legenda)\n",
        "    plt.title(title, y=1.03)\n",
        "    g.set(xlabel=labelx, ylabel=labely)\n",
        "    plt.xticks(rotation=45)\n",
        "        \n",
        "    return plt.show()\n",
        "\n",
        "    # Add except block\n",
        "    except:\n",
        "        print('The DataFrame does not have a ' + col_name + ' column.')\n",
        "\n",
        "pagamento = []\n",
        "for row in data.paying.items():\n",
        "    if row == 0.0:\n",
        "        row = 'Não'\n",
        "        pagamento.append(row)\n",
        "    else:\n",
        "        row = 'Sim'\n",
        "        pagamento.append(row)\n"
      ],
      "execution_count": null,
      "outputs": []
    }
  ]
}