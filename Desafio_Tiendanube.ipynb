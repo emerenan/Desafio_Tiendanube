{
  "nbformat": 4,
  "nbformat_minor": 0,
  "metadata": {
    "colab": {
      "name": "Desafio_Tiendanube.ipynb",
      "provenance": [],
      "collapsed_sections": [],
      "authorship_tag": "ABX9TyMcIN5JgHlteelsbZLWrRCI",
      "include_colab_link": true
    },
    "kernelspec": {
      "name": "python3",
      "display_name": "Python 3"
    }
  },
  "cells": [
    {
      "cell_type": "markdown",
      "metadata": {
        "id": "view-in-github",
        "colab_type": "text"
      },
      "source": [
        "<a href=\"https://colab.research.google.com/github/emerenan/Desafio_Tiendanube/blob/master/Desafio_Tiendanube.ipynb\" target=\"_parent\"><img src=\"https://colab.research.google.com/assets/colab-badge.svg\" alt=\"Open In Colab\"/></a>"
      ]
    },
    {
      "cell_type": "code",
      "metadata": {
        "id": "NrUCB4P2dGUZ",
        "colab_type": "code",
        "colab": {
          "base_uri": "https://localhost:8080/",
          "height": 956
        },
        "outputId": "1cbf40f1-3f8d-48ab-8145-41e9b472c1ad"
      },
      "source": [
        "import pandas as pd\n",
        "import matplotlib.pyplot as plt\n",
        "import seaborn as sns\n",
        "\n",
        "# Método para contagem\n",
        "def count_entries(df, col_name):\n",
        "    \"\"\"Retorna um dicionario com a contagem de ocorrências de cada chave\n",
        "    \n",
        "    Parametros \\n\n",
        "\n",
        "    :param df: o dataframe base. \\n\n",
        "    :param col_name: o nome da coluna que terá os valores contados. \\n\n",
        "\n",
        "    \"\"\"\n",
        "    cols_count = {}\n",
        "\n",
        "    try:\n",
        "        col = df[col_name]\n",
        "\n",
        "        for entry in col:\n",
        "            if entry in cols_count.keys():\n",
        "                cols_count[entry] += 1\n",
        "            else:\n",
        "\n",
        "                cols_count[entry] = 1\n",
        "\n",
        "        return cols_count\n",
        "\n",
        "    # Add except block\n",
        "    except:\n",
        "        print('The DataFrame does not have a ' + col_name + ' column.')\n",
        "\n",
        "# Método para converter a coluna float64 para str\n",
        "def bool_trans(df, column, val_true, val_false):\n",
        "    \"\"\" Método para transformar as colunas que estão em float64 para strings categóricas\n",
        "    \n",
        "    Parametros\n",
        "    :param df: o dataframe base. \\n\n",
        "    :param column: o nome da coluna que terá os valores modificados. \\n\n",
        "    :param val_true: o text para o valores que forem True. \\n\n",
        "    :param val_false: o text para o valores que forem False. \\n\n",
        "    \"\"\"\n",
        "    list = []\n",
        "\n",
        "    for row in df[column].values:\n",
        "        if row == 1.0:\n",
        "            row = val_true\n",
        "            list.append(row)\n",
        "        else:\n",
        "            row = val_false\n",
        "            list.append(row)\n",
        "    df[column] = list\n",
        "\n",
        "# Método para imprimir um cruzamento mais o gráfico\n",
        "def cross_plt(df, colx, collegend, title):\n",
        "    \"\"\" Método para imprimir uma plotagem de cruzamento de colunas contaveis\n",
        "\n",
        "    Paramentros \\n\n",
        "    :param df: o dataframe base. \\n\n",
        "    :param colx: a lista de nomes do eixo x. \\n\n",
        "    :param collegend: a lista de nomes que serão a legenda. \\n\n",
        "    :param title: o título do gráfico. \\n\n",
        "\n",
        "    \"\"\"\n",
        "    cross = pd.crosstab(df[colx], df[collegend])\n",
        "    print(cross)\n",
        "    stack = cross.stack().reset_index().rename(columns={0: 'value'})\n",
        "    sns.barplot(x=stack[colx],\n",
        "                y=stack.value,\n",
        "                hue=stack[collegend])\n",
        "    plt.xticks(rotation=45)\n",
        "    plt.title(title) \n",
        "    plt.show()\n",
        "\n",
        "\n",
        "# Método de plotagem em categoria\n",
        "def cat_plot(df, coluna, title, labelx, labely, legenda):\n",
        "\n",
        "    g = sns.catplot(x=coluna, data=df, kind='count', hue=legenda)\n",
        "    plt.title(title, y=1.03)\n",
        "    g.set(xlabel=labelx, ylabel=labely)\n",
        "    plt.xticks(rotation=45)\n",
        "        \n",
        "    return plt.show()\n",
        "\n",
        "\n",
        "columns = ['amplitude_id', 'user_id', 'carrier', 'city', 'country', 'device',\n",
        "       'device_type', 'dma', 'language', 'library', 'os', 'paying', 'platform',\n",
        "       'region', 'start_version', 'version', 'gp_brick_and_mortars',\n",
        "       'gp_business_size', 'gp_chat', 'gp_context', 'gp_country',\n",
        "       'gp_created_at', 'gp_first_contact', 'gp_from', 'gp_initial_referrer',\n",
        "       'gp_initial_referring_domain', 'gp_initial_utm_campaign',\n",
        "       'gp_initial_utm_content', 'gp_initial_utm_medium',\n",
        "       'gp_initial_utm_source', 'gp_initial_utm_term', 'gp_new_billing_flow',\n",
        "       'gp_new_product_filter', 'gp_orders', 'gp_products', 'gp_referrer',\n",
        "       'gp_referring_domain', 'gp_segment', 'gp_source', 'gp_store_id',\n",
        "       'gp_theme', 'gp_trial_payment_bar', 'gp_type', 'gp_utm_campaign',\n",
        "       'gp_utm_content', 'gp_utm_medium', 'gp_utm_source', 'gp_utm_term',\n",
        "       'gp_vertical', 'dia_semana']\n",
        "\n",
        "data = pd.read_excel(\"/content/Exercicio_1 - datos-trials-may17-BR.xlsx\", names=columns)\n",
        "\n",
        "# print(data.info())\n",
        "\n",
        "data = data.loc[:,['amplitude_id', 'user_id', 'city', 'country', 'device', 'language', 'library', 'paying', 'platform',\n",
        "                   'region', 'gp_chat', 'gp_context', 'gp_country', 'gp_created_at', 'gp_first_contact', 'gp_initial_referrer',\n",
        "                   'gp_initial_referring_domain', 'gp_initial_utm_campaign', 'gp_initial_utm_medium', 'gp_initial_utm_source',\n",
        "                   'gp_new_product_filter', 'gp_orders', 'gp_products', 'gp_referrer', 'gp_referring_domain', 'gp_segment',\n",
        "                   'gp_source', 'gp_store_id', 'gp_theme', 'gp_trial_payment_bar', 'gp_type', 'gp_utm_campaign', 'gp_utm_medium',\n",
        "                   'gp_utm_source', 'gp_vertical']]\n",
        "\n",
        "data.fillna({'paying':0.0, 'city': 'São Paulo', 'country': 'Brazil', \n",
        "             'language': 'Portuguese', 'gp_chat':0.0, 'gp_trial_payment_bar':0.0, \n",
        "             'gp_new_product_filter':0.0, 'gp_orders':0, 'gp_products':0, \n",
        "             'gp_segment': 'no-seller', 'gp_theme': 'material', 'gp_vertical': 'other'}, inplace=True)\n",
        "\n",
        "\n",
        "data.fillna('Não Definido', inplace=True)\n",
        "\n",
        "bool_trans(data, 'paying', 'Sim', 'Não')\n",
        "bool_trans(data, 'gp_chat', 'Sim', 'Não')\n",
        "bool_trans(data, 'gp_trial_payment_bar', 'Sim', 'Não')\n",
        "bool_trans(data, 'gp_new_product_filter', 'Sim', 'Não')\n",
        "\n",
        "list = []\n",
        "for row in data['region'].values:\n",
        "    if row == 'Tocantins' or row == 'Acre' or row == 'Para' or  row == 'Rondonia' or row == 'Roraima' or row == 'Amapa' or row == 'Amazonas':\n",
        "        row = 'Norte'\n",
        "        list.append(row)\n",
        "    elif row == 'Bahia' or row == 'Sergipe' or row == 'Alagoas' or  row == 'ParaÃ-­ba' or row == 'Pernambuco' or row == 'Rio Grande do Norte' or row == 'Ceara' or row == 'Piaui' or row == 'Maranhao':\n",
        "        row = 'Nordeste'\n",
        "        list.append(row)\n",
        "    elif row == 'Mato Grosso' or row == 'Mato Grosso do Sul' or row == 'Goias' or row == 'Federal District':\n",
        "        row = 'Centro-Oeste'\n",
        "        list.append(row)\n",
        "    elif row == 'Espirito Santo' or row == 'Rio de Janeiro' or row == 'Minas Gerais' or row == 'Sao Paulo':\n",
        "        row = 'Sudeste'\n",
        "        list.append(row)\n",
        "    elif row == 'Santa Catarina' or row == 'Rio Grande do Sul' or row == 'Parana':\n",
        "        row = 'Sul'\n",
        "        list.append(row)\n",
        "    else:\n",
        "        row = 'Fora do Brasil'\n",
        "        list.append(row)\n",
        "\n",
        "data['gp_region'] = list\n",
        "\n",
        "cross_plt(data, 'platform', 'gp_chat', 'Plataformas com uso de chat')\n",
        "cross_plt(data, 'gp_segment',  'platform', 'Segmento por plataforma')\n"
      ],
      "execution_count": 18,
      "outputs": [
        {
          "output_type": "stream",
          "text": [
            "gp_chat    Não   Sim\n",
            "platform            \n",
            "Android    250    42\n",
            "Web       8997  2086\n",
            "iOS         74    10\n",
            "\n",
            "\n"
          ],
          "name": "stdout"
        },
        {
          "output_type": "display_data",
          "data": {
            "image/png": "[encoded data removed]",
            "text/plain": [
              "<Figure size 432x288 with 1 Axes>"
            ]
          },
          "metadata": {
            "tags": [],
            "needs_background": "light"
          }
        },
        {
          "output_type": "stream",
          "text": [
            "platform           Android    Web  iOS\n",
            "gp_segment                            \n",
            "medium-seller            0      9    1\n",
            "no-seller              263  10807   55\n",
            "small-seller             1     13    7\n",
            "struggling-seller       23    214   13\n",
            "tiny-seller              5     40    7\n",
            "top-seller               0      0    1\n",
            "\n",
            "\n"
          ],
          "name": "stdout"
        },
        {
          "output_type": "display_data",
          "data": {
            "image/png": "[encoded data removed]",
            "text/plain": [
              "<Figure size 432x288 with 1 Axes>"
            ]
          },
          "metadata": {
            "tags": [],
            "needs_background": "light"
          }
        }
      ]
    }
  ]
}